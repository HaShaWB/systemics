{
 "cells": [
  {
   "cell_type": "code",
   "id": "initial_id",
   "metadata": {
    "collapsed": true,
    "ExecuteTime": {
     "end_time": "2024-09-10T15:36:38.686804Z",
     "start_time": "2024-09-10T15:36:37.734937Z"
    }
   },
   "source": [
    "from openai_LM import Openai_LM\n",
    "from pydantic import BaseModel\n",
    "\n",
    "chatbot = Openai_LM(\"gpt-4o-mini\")"
   ],
   "outputs": [],
   "execution_count": 1
  },
  {
   "metadata": {},
   "cell_type": "markdown",
   "source": "## 기본 기능 테스트",
   "id": "ca60caebe5d827d"
  },
  {
   "metadata": {},
   "cell_type": "code",
   "outputs": [],
   "execution_count": 2,
   "source": [
    "log = [\n",
    "    {\n",
    "        \"role\" : \"system\",\n",
    "        \"content\" : \"you are a helpful assistant\"\n",
    "    },\n",
    "    {\n",
    "        \"role\" : \"user\",\n",
    "        \"content\" : \"Give me some tips for studying AIs\"\n",
    "    },\n",
    "    {\n",
    "        \"role\" : \"system\",\n",
    "        \"content\" : \"Answer in Korean\"\n",
    "    }\n",
    "]"
   ],
   "id": "ad1f37b331a5047d"
  },
  {
   "metadata": {
    "ExecuteTime": {
     "end_time": "2024-09-10T15:36:42.439193Z",
     "start_time": "2024-09-10T15:36:38.703280Z"
    }
   },
   "cell_type": "code",
   "source": [
    "ans, _ = chatbot.generate_chat(log)\n",
    "\n",
    "print(ans)"
   ],
   "id": "37e894727b0bd829",
   "outputs": [
    {
     "name": "stdout",
     "output_type": "stream",
     "text": [
      "인공지능(AI)을 효과적으로 공부하기 위한 팁을 몇 가지 소개하겠습니다:\n",
      "\n",
      "1. **기본 개념 이해**: AI의 기본 개념인 머신러닝, 딥러닝, 신경망 등을 이해하는 것이 중요합니다. 이를 위해 관련 도서를 읽거나 온라인 강의를 수강하세요.\n",
      "\n",
      "2. **프로젝트 기반 학습**: 실제 프로젝트를 통해 배운 내용을 적용해보세요. Kaggle과 같은 플랫폼에서 데이터셋을 이용해 문제를 해결하는 경험을 쌓는 것이 좋습니다.\n",
      "\n",
      "3. **코딩 연습**: Python은 AI 분야에서 널리 사용되는 언어입니다. Python을 잘 익히고 NumPy, Pandas, TensorFlow, PyTorch 같은 라이브러리를 활용해 보세요.\n",
      "\n",
      "4. **논문 읽기**: 최신 AI 연구 동향을 파악하기 위해 논문을 읽는 것이 중요합니다. arXiv.org와 같은 사이트에서 관련 논문을 찾아보세요.\n",
      "\n",
      "5. **스터디 그룹 참여**: 함께 공부하는 친구들이나 스터디 그룹에 참여하면 서로의 지식을 공유하고 더 깊이 있는 공부를 할 수 있습니다.\n",
      "\n",
      "6. **온라인 커뮤니티 활용**: Reddit, Stack Overflow, AI 전용 포럼 등에서 질문하고, 서로의 경험을 공유하는 것도 큰 도움이 됩니다.\n",
      "\n",
      "7. **수학적 기초 다지기**: AI 알고리즘을 이해하기 위해, 선형대수, 확률 및 통계 등의 수학적 기초를 튼튼히 하는 것이 중요합니다.\n",
      "\n",
      "8. **지속적인 학습**: AI 분야는 빠르게 변화하므로, 최신 트렌드와 기술에 대한 학습을 지속적으로 해야 합니다. 웹 세미나, 컨퍼런스, MOOCs 등을 통해 최신 정보를 얻으세요.\n",
      "\n",
      "AI 연구는 시간이 좀 걸릴 수 있지만, 꾸준한 학습과 실습을 통해 충분히 잘 할 수 있습니다. 화이팅하세요!\n"
     ]
    }
   ],
   "execution_count": 3
  },
  {
   "metadata": {},
   "cell_type": "markdown",
   "source": "## Json Mode 테스트",
   "id": "4b319646e717e465"
  },
  {
   "metadata": {
    "ExecuteTime": {
     "end_time": "2024-09-10T15:36:42.455626Z",
     "start_time": "2024-09-10T15:36:42.439897Z"
    }
   },
   "cell_type": "code",
   "source": [
    "log = [\n",
    "    {\n",
    "        \"role\" : \"system\",\n",
    "        \"content\" : \"you are a helpful assistant. Return in JSON format\"\n",
    "    },\n",
    "    {\n",
    "        \"role\" : \"user\",\n",
    "        \"content\" : \"Give me some tips for studying AIs\"\n",
    "    },\n",
    "    {\n",
    "        \"role\" : \"system\",\n",
    "        \"content\" : \"Answer in Korean. Format = {'title' : str, 'guide' : list(str), 'tips' : list(str)}\"\n",
    "    }\n",
    "]\n"
   ],
   "id": "67aa783c56c566a4",
   "outputs": [],
   "execution_count": 4
  },
  {
   "metadata": {
    "ExecuteTime": {
     "end_time": "2024-09-10T15:36:45.824776Z",
     "start_time": "2024-09-10T15:36:42.459479Z"
    }
   },
   "cell_type": "code",
   "source": "ans, _ = chatbot.generate_chat_in_json(log)",
   "id": "af5c9a569ff0c624",
   "outputs": [],
   "execution_count": 5
  },
  {
   "metadata": {
    "ExecuteTime": {
     "end_time": "2024-09-10T15:36:45.849197Z",
     "start_time": "2024-09-10T15:36:45.824776Z"
    }
   },
   "cell_type": "code",
   "source": "print(ans)",
   "id": "7ef47ebd975b1b69",
   "outputs": [
    {
     "name": "stdout",
     "output_type": "stream",
     "text": [
      "{\n",
      "    \"title\": \"AI 공부를 위한 팁\",\n",
      "    \"guide\": [\n",
      "        \"기본 개념 이해하기\",\n",
      "        \"프로그램 언어 익히기 (예: Python)\",\n",
      "        \"수학적 기초 다지기 (선형대수, 통계학)\",\n",
      "        \"자료 구조와 알고리즘 배우기\",\n",
      "        \"현실 세계의 문제를 해결하는 프로젝트 진행하기\"\n",
      "    ],\n",
      "    \"tips\": [\n",
      "        \"온라인 강의나 자료를 활용하여 자율적으로 학습하기\",\n",
      "        \"책이나 논문을 통해 최신 연구 동향을 파악하기\",\n",
      "        \"AI 관련 커뮤니티에 참여하여 정보 공유하기\",\n",
      "        \"코드 예제를 통해 실제로 구현해보기\",\n",
      "        \"정기적으로 자신의 진도를 점검하고 복습하기\"\n",
      "    ]\n",
      "}\n"
     ]
    }
   ],
   "execution_count": 6
  },
  {
   "metadata": {},
   "cell_type": "markdown",
   "source": "## structed output 테스트",
   "id": "8d5050585c409d3"
  },
  {
   "metadata": {
    "ExecuteTime": {
     "end_time": "2024-09-10T15:36:45.865315Z",
     "start_time": "2024-09-10T15:36:45.849197Z"
    }
   },
   "cell_type": "code",
   "source": [
    "log = [\n",
    "    {\n",
    "        \"role\" : \"system\",\n",
    "        \"content\" : \"you are a helpful assistant\"\n",
    "    },\n",
    "    {\n",
    "        \"role\" : \"user\",\n",
    "        \"content\" : \"Give me some tips for studying AIs\"\n",
    "    },\n",
    "    {\n",
    "        \"role\" : \"system\",\n",
    "        \"content\" : \"Answer in Korean\"\n",
    "    }\n",
    "]"
   ],
   "id": "4625643660f2e2d6",
   "outputs": [],
   "execution_count": 7
  },
  {
   "metadata": {
    "ExecuteTime": {
     "end_time": "2024-09-10T15:36:49.431845Z",
     "start_time": "2024-09-10T15:36:45.865315Z"
    }
   },
   "cell_type": "code",
   "source": [
    "class Step(BaseModel):\n",
    "    step_title : str\n",
    "    step_content : str\n",
    "    \n",
    "class AnswerFormat(BaseModel):\n",
    "    title : str\n",
    "    content : list[Step]\n",
    "    tips : list[str]\n",
    "    \n",
    "    \n",
    "answer, _ = chatbot.generate_chat_in_structure(log, AnswerFormat)"
   ],
   "id": "f75cf37e03680bd",
   "outputs": [],
   "execution_count": 8
  },
  {
   "metadata": {
    "ExecuteTime": {
     "end_time": "2024-09-10T15:36:49.456532Z",
     "start_time": "2024-09-10T15:36:49.432837Z"
    }
   },
   "cell_type": "code",
   "source": "answer.dict()",
   "id": "3c49dfb3e8151ba1",
   "outputs": [
    {
     "data": {
      "text/plain": [
       "{'title': 'AI 학습 팁',\n",
       " 'content': [{'step_title': '기초 개념 이해하기',\n",
       "   'step_content': '인공지능의 기본 원리와 용어를 이해하는 것이 중요하다. 머신러닝, 딥러닝, 신경망 등의 기초 지식을 공부하자.'},\n",
       "  {'step_title': '수학적 기초 다지기',\n",
       "   'step_content': '인공지능에 필요한 수학, 특히 선형대수학과 확률 및 통계를 이해해야 한다. 이러한 수학적 개념들이 알고리즘에 어떻게 적용되는지 알아보자.'},\n",
       "  {'step_title': '프로그래밍 언어 익히기',\n",
       "   'step_content': '파이썬(Python)은 인공지능 프로그래밍에 널리 사용된다. 기본 문법부터 시작해 다양한 라이브러리를 활용해보자.'},\n",
       "  {'step_title': '프로젝트 실습하기',\n",
       "   'step_content': '이론 공부와 함께 작은 프로젝트를 진행해보자. Kaggle과 같은 플랫폼에서 데이터셋을 가져와 실습해볼 수 있다.'},\n",
       "  {'step_title': '최신 연구 동향 따라가기',\n",
       "   'step_content': 'AI 분야는 빠르게 발전하고 있으므로, 최신 연구 논문이나 블로그를 통해 현재의 기술 동향을 알아보는 것이 중요하다.'}],\n",
       " 'tips': ['일상생활 속 인공지능의 예시를 찾아보자.',\n",
       "  'Online Course를 활용하여 구조적으로 공부하자.',\n",
       "  '멘토나 스터디 그룹을 만들어 서로 자극하며 공부하자.',\n",
       "  '실제 AI 모델을 사용해보며 실습을 늘리자.']}"
      ]
     },
     "execution_count": 9,
     "metadata": {},
     "output_type": "execute_result"
    }
   ],
   "execution_count": 9
  }
 ],
 "metadata": {
  "kernelspec": {
   "display_name": "Python 3",
   "language": "python",
   "name": "python3"
  },
  "language_info": {
   "codemirror_mode": {
    "name": "ipython",
    "version": 2
   },
   "file_extension": ".py",
   "mimetype": "text/x-python",
   "name": "python",
   "nbconvert_exporter": "python",
   "pygments_lexer": "ipython2",
   "version": "2.7.6"
  }
 },
 "nbformat": 4,
 "nbformat_minor": 5
}
