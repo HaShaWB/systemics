{
 "cells": [
  {
   "cell_type": "code",
   "id": "initial_id",
   "metadata": {
    "collapsed": true
   },
   "source": [
    "from openai_LM import Openai_LM\n",
    "from pydantic import BaseModel\n",
    "\n",
    "chatbot = Openai_LM(\"gpt-4o-mini\")"
   ],
   "outputs": [],
   "execution_count": null
  },
  {
   "metadata": {},
   "cell_type": "markdown",
   "source": "## 기본 기능 테스트",
   "id": "ca60caebe5d827d"
  },
  {
   "metadata": {},
   "cell_type": "code",
   "source": [
    "log = [\n",
    "    {\n",
    "        \"role\" : \"system\",\n",
    "        \"content\" : \"you are a helpful assistant\"\n",
    "    },\n",
    "    {\n",
    "        \"role\" : \"user\",\n",
    "        \"content\" : \"Give me some tips for studying AIs\"\n",
    "    },\n",
    "    {\n",
    "        \"role\" : \"system\",\n",
    "        \"content\" : \"Answer in Korean\"\n",
    "    }\n",
    "]"
   ],
   "id": "ad1f37b331a5047d",
   "outputs": [],
   "execution_count": null
  },
  {
   "metadata": {},
   "cell_type": "code",
   "source": [
    "ans, _ = chatbot.generate_chat(log)\n",
    "\n",
    "print(ans)"
   ],
   "id": "37e894727b0bd829",
   "outputs": [],
   "execution_count": null
  },
  {
   "metadata": {},
   "cell_type": "markdown",
   "source": "## Json Mode 테스트",
   "id": "4b319646e717e465"
  },
  {
   "metadata": {},
   "cell_type": "code",
   "source": [
    "log = [\n",
    "    {\n",
    "        \"role\" : \"system\",\n",
    "        \"content\" : \"you are a helpful assistant. Return in JSON format\"\n",
    "    },\n",
    "    {\n",
    "        \"role\" : \"user\",\n",
    "        \"content\" : \"Give me some tips for studying AIs\"\n",
    "    },\n",
    "    {\n",
    "        \"role\" : \"system\",\n",
    "        \"content\" : \"Answer in Korean. Format = {'title' : str, 'guide' : list(str), 'tips' : list(str)}\"\n",
    "    }\n",
    "]\n"
   ],
   "id": "67aa783c56c566a4",
   "outputs": [],
   "execution_count": null
  },
  {
   "metadata": {},
   "cell_type": "code",
   "source": "ans, _ = chatbot.generate_chat_in_json(log)",
   "id": "af5c9a569ff0c624",
   "outputs": [],
   "execution_count": null
  },
  {
   "metadata": {},
   "cell_type": "code",
   "source": "print(ans)",
   "id": "7ef47ebd975b1b69",
   "outputs": [],
   "execution_count": null
  },
  {
   "metadata": {},
   "cell_type": "markdown",
   "source": "## structed output 테스트",
   "id": "8d5050585c409d3"
  },
  {
   "metadata": {},
   "cell_type": "code",
   "source": [
    "log = [\n",
    "    {\n",
    "        \"role\" : \"system\",\n",
    "        \"content\" : \"you are a helpful assistant\"\n",
    "    },\n",
    "    {\n",
    "        \"role\" : \"user\",\n",
    "        \"content\" : \"Give me some tips for studying AIs\"\n",
    "    },\n",
    "    {\n",
    "        \"role\" : \"system\",\n",
    "        \"content\" : \"Answer in Korean\"\n",
    "    }\n",
    "]"
   ],
   "id": "4625643660f2e2d6",
   "outputs": [],
   "execution_count": null
  },
  {
   "metadata": {},
   "cell_type": "code",
   "source": [
    "class Step(BaseModel):\n",
    "    step_title : str\n",
    "    step_content : str\n",
    "    \n",
    "class AnswerFormat(BaseModel):\n",
    "    title : str\n",
    "    content : list[Step]\n",
    "    tips : list[str]\n",
    "    \n",
    "    \n",
    "answer, _ = chatbot.generate_chat_in_structure(log, AnswerFormat)"
   ],
   "id": "f75cf37e03680bd",
   "outputs": [],
   "execution_count": null
  },
  {
   "metadata": {},
   "cell_type": "code",
   "source": "answer.dict()",
   "id": "3c49dfb3e8151ba1",
   "outputs": [],
   "execution_count": null
  }
 ],
 "metadata": {
  "kernelspec": {
   "display_name": "Python 3",
   "language": "python",
   "name": "python3"
  },
  "language_info": {
   "codemirror_mode": {
    "name": "ipython",
    "version": 2
   },
   "file_extension": ".py",
   "mimetype": "text/x-python",
   "name": "python",
   "nbconvert_exporter": "python",
   "pygments_lexer": "ipython2",
   "version": "2.7.6"
  }
 },
 "nbformat": 4,
 "nbformat_minor": 5
}
