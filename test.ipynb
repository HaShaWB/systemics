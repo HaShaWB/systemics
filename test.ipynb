{
 "cells": [
  {
   "cell_type": "code",
   "execution_count": 21,
   "metadata": {},
   "outputs": [],
   "source": [
    "from systemics.lm.openai_lm import Openai_LM\n",
    "from systemics.chatbot.chatbot import Chatbot\n",
    "from systemics.chatbot.chat_obj import *\n",
    "from pydantic import BaseModel\n",
    "\n",
    "client = Openai_LM(\"gpt-4o-mini\")\n",
    "chatbot = Chatbot(client)"
   ]
  },
  {
   "cell_type": "code",
   "execution_count": 22,
   "metadata": {},
   "outputs": [
    {
     "data": {
      "text/plain": [
       "{'role': 'system',\n",
       " 'content': 'you are kind tutor. Answer in given structure.\\n'}"
      ]
     },
     "execution_count": 22,
     "metadata": {},
     "output_type": "execute_result"
    }
   ],
   "source": [
    "init_system =SystemChat(\"\"\"you are kind tutor. Answer in given structure.\n",
    "\"\"\")\n",
    "chatbot.add_chat(init_system)\n",
    "init_system.chat()"
   ]
  },
  {
   "cell_type": "code",
   "execution_count": 23,
   "metadata": {},
   "outputs": [],
   "source": [
    "inputs = \"helllo! Mr. Prince\"\n",
    "\n",
    "user_chat = UserChat(inputs)\n",
    "chatbot.add_chat(user_chat)"
   ]
  },
  {
   "cell_type": "code",
   "execution_count": 24,
   "metadata": {},
   "outputs": [],
   "source": [
    "from pydantic import BaseModel, Field\n",
    "from typing import Literal\n",
    "\n",
    "\n",
    "class GrammaticalError(BaseModel):\n",
    "    is_major : bool\n",
    "    error_description: str\n",
    "\n",
    "\n",
    "class LexicalError(BaseModel):\n",
    "    is_major: bool\n",
    "    error_description: str\n",
    "\n",
    "\n",
    "class Feedback(BaseModel):\n",
    "    score_out_of_100: int\n",
    "    grammatical_errors: list[GrammaticalError]\n",
    "    lexical_errors: list[LexicalError]\n",
    "\n",
    "\n",
    "class OutputStructure(BaseModel):\n",
    "    feedback: Feedback\n",
    "    assistant_response: str\n",
    "    \n"
   ]
  },
  {
   "cell_type": "code",
   "execution_count": 27,
   "metadata": {},
   "outputs": [
    {
     "data": {
      "text/plain": [
       "{'feedback': {'score_out_of_100': 80,\n",
       "  'grammatical_errors': [{'is_major': False,\n",
       "    'error_description': \"'helllo' should be spelled as 'hello'\"}],\n",
       "  'lexical_errors': [{'is_major': False,\n",
       "    'error_description': \"Using 'Mr.' before a first name is uncommon; typically, 'Mr.' is used with the last name.\"}]},\n",
       " 'assistant_response': 'Hello! How can I assist you today, Mr. Prince?'}"
      ]
     },
     "execution_count": 27,
     "metadata": {},
     "output_type": "execute_result"
    }
   ],
   "source": [
    "output, _ = client.generate_chat_in_structure(\n",
    "    [init_system.chat(),\n",
    "     user_chat.chat()],\n",
    "    OutputStructure\n",
    ")\n",
    "\n",
    "output.dict()"
   ]
  },
  {
   "cell_type": "code",
   "execution_count": 26,
   "metadata": {},
   "outputs": [
    {
     "data": {
      "text/plain": [
       "OutputStructure(feedback=Feedback(score_out_of_100=80, grammatical_errors=[GrammaticalError(is_major=False, error_description=\"Capitalization of 'Mr.' in 'Mr. Prince' is correct, but 'helllo' should be 'hello'.\")], lexical_errors=[LexicalError(is_major=True, error_description=\"The word 'helllo' is a misspelling of 'hello'.\")]), assistant_response=\"It looks like there was a small error in your greeting. The correct spelling is 'Hello! Mr. Prince.' If you have any questions or need assistance, feel free to ask!\")"
      ]
     },
     "execution_count": 26,
     "metadata": {},
     "output_type": "execute_result"
    }
   ],
   "source": [
    "\n",
    "\n",
    "chatbot.generate_response_in_structure(OutputStructure)"
   ]
  },
  {
   "cell_type": "code",
   "execution_count": null,
   "metadata": {},
   "outputs": [],
   "source": []
  }
 ],
 "metadata": {
  "kernelspec": {
   "display_name": "systemics",
   "language": "python",
   "name": "python3"
  },
  "language_info": {
   "codemirror_mode": {
    "name": "ipython",
    "version": 3
   },
   "file_extension": ".py",
   "mimetype": "text/x-python",
   "name": "python",
   "nbconvert_exporter": "python",
   "pygments_lexer": "ipython3",
   "version": "3.10.14"
  }
 },
 "nbformat": 4,
 "nbformat_minor": 2
}
